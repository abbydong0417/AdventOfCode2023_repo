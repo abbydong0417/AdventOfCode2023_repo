{
  "metadata": {
    "kernelspec": {
      "name": "python",
      "display_name": "Python (Pyodide)",
      "language": "python"
    },
    "language_info": {
      "codemirror_mode": {
        "name": "python",
        "version": 3
      },
      "file_extension": ".py",
      "mimetype": "text/x-python",
      "name": "python",
      "nbconvert_exporter": "python",
      "pygments_lexer": "ipython3",
      "version": "3.8"
    }
  },
  "nbformat_minor": 4,
  "nbformat": 4,
  "cells": [
    {
      "cell_type": "code",
      "source": "import pandas",
      "metadata": {
        "trusted": true
      },
      "outputs": [],
      "execution_count": 1
    },
    {
      "cell_type": "code",
      "source": "data = pandas.read_csv('AoC3.txt', header = None)\nengine_schema = data[0].tolist()",
      "metadata": {
        "trusted": true
      },
      "outputs": [],
      "execution_count": 2
    },
    {
      "cell_type": "code",
      "source": "test_schema = ['467..114..',\n'...*......',\n'..35..633.',\n'......#...',\n'617*......',\n'.....+.58.',\n'..592.....',\n'......755.',\n'...$.*....',\n'.664.598..']",
      "metadata": {
        "trusted": true
      },
      "outputs": [],
      "execution_count": 3
    },
    {
      "cell_type": "code",
      "source": "def expand_schema(schema):\n    add_schema = [] \n    for line in schema:\n        new_line='.'+line+'.'\n        add_schema.append(new_line)\n    horizonal_padding = '.'*len(add_schema[0])\n    add_schema.insert(0, horizonal_padding)\n    add_schema.append(horizonal_padding)\n    return add_schema",
      "metadata": {
        "trusted": true
      },
      "outputs": [],
      "execution_count": 4
    },
    {
      "cell_type": "code",
      "source": "add_test_schema = expand_schema(test_schema)",
      "metadata": {
        "trusted": true
      },
      "outputs": [],
      "execution_count": 5
    },
    {
      "cell_type": "code",
      "source": "add_engine_schema = expand_schema(engine_schema)",
      "metadata": {
        "trusted": true
      },
      "outputs": [],
      "execution_count": 6
    },
    {
      "cell_type": "code",
      "source": "import re",
      "metadata": {
        "trusted": true
      },
      "outputs": [],
      "execution_count": 7
    },
    {
      "cell_type": "code",
      "source": "def capture_num(schema):\n    valid_sum = 0\n    for i in range(1,len(schema)-1):\n        num_list = re.findall(r'\\d+', schema[i])\n        #if num_list != []:\n        for num in num_list:\n            num_slice = []\n            ind = schema[i].find(num)\n            num_length = len(num)\n            num_slice.append(schema[i-1][ind-1:ind+num_length+1])\n            num_slice.append(schema[i][ind-1:ind+num_length+1])\n            num_slice.append(schema[i+1][ind-1:ind+num_length+1])\n            if is_valid(num_slice):\n                valid_sum += int(num)\n    return valid_sum",
      "metadata": {
        "tags": [],
        "trusted": true
      },
      "outputs": [],
      "execution_count": 46
    },
    {
      "cell_type": "code",
      "source": "def is_valid(num_slice):\n    # flat_num_slice = []\n    flat_str = ''.join([ele for ele in num_slice])\n    if re.match('[\\d.]+$', flat_str):\n        return False\n    return True",
      "metadata": {
        "trusted": true
      },
      "outputs": [],
      "execution_count": 49
    },
    {
      "cell_type": "code",
      "source": "capture_num(add_engine_schema)",
      "metadata": {
        "trusted": true
      },
      "outputs": [
        {
          "execution_count": 50,
          "output_type": "execute_result",
          "data": {
            "text/plain": "536488"
          },
          "metadata": {}
        }
      ],
      "execution_count": 50
    },
    {
      "cell_type": "code",
      "source": "",
      "metadata": {},
      "outputs": [],
      "execution_count": null
    }
  ]
}