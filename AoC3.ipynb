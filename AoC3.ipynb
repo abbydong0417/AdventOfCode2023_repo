{
  "metadata": {
    "kernelspec": {
      "name": "python",
      "display_name": "Python (Pyodide)",
      "language": "python"
    },
    "language_info": {
      "codemirror_mode": {
        "name": "python",
        "version": 3
      },
      "file_extension": ".py",
      "mimetype": "text/x-python",
      "name": "python",
      "nbconvert_exporter": "python",
      "pygments_lexer": "ipython3",
      "version": "3.8"
    }
  },
  "nbformat_minor": 4,
  "nbformat": 4,
  "cells": [
    {
      "cell_type": "code",
      "source": "import pandas",
      "metadata": {
        "trusted": true
      },
      "outputs": [],
      "execution_count": 1
    },
    {
      "cell_type": "code",
      "source": "data = pandas.read_csv('AoC3.txt', header = None)\nengine_schema = data[0].tolist()",
      "metadata": {
        "trusted": true
      },
      "outputs": [],
      "execution_count": 27
    },
    {
      "cell_type": "code",
      "source": "test_schema = ['467..114..',\n'...*......',\n'..35..633.',\n'......#...',\n'617*......',\n'.....+.58.',\n'..592.....',\n'......755.',\n'...$.*....',\n'.664.598..']",
      "metadata": {
        "trusted": true
      },
      "outputs": [],
      "execution_count": 119
    },
    {
      "cell_type": "code",
      "source": "def expand_schema(schema):\n    add_schema = [] \n    for line in schema:\n        new_line='.'+line+'.'\n        add_schema.append(new_line)\n    horizonal_padding = '.'*len(add_schema[0])\n    add_schema.insert(0, horizonal_padding)\n    add_schema.append(horizonal_padding)\n    return add_schema",
      "metadata": {
        "trusted": true
      },
      "outputs": [],
      "execution_count": 29
    },
    {
      "cell_type": "code",
      "source": "add_test_schema = expand_schema(test_schema)",
      "metadata": {
        "trusted": true,
        "scrolled": true
      },
      "outputs": [],
      "execution_count": 120
    },
    {
      "cell_type": "code",
      "source": "add_engine_schema = expand_schema(engine_schema)",
      "metadata": {
        "trusted": true
      },
      "outputs": [],
      "execution_count": 43
    },
    {
      "cell_type": "code",
      "source": "import re",
      "metadata": {
        "trusted": true
      },
      "outputs": [],
      "execution_count": 32
    },
    {
      "cell_type": "code",
      "source": "for i in re.finditer(r'[^\\d]\\d+', add_test_schema[-2]):\n    print(add_test_schema[-2])\n    s = i.start()\n    e = i.end()\n    print(add_test_schema[-2][s+1:e])",
      "metadata": {
        "trusted": true
      },
      "outputs": [
        {
          "name": "stdout",
          "text": "..664.598...\n664\n..664.598...\n598\n",
          "output_type": "stream"
        }
      ],
      "execution_count": 181
    },
    {
      "cell_type": "code",
      "source": "def capture_num(schema):\n    valid_sum = 0\n    for i in range(0,len(schema)):\n        for num in re.finditer(r'[^\\d]\\d+', schema[i]):\n            ind_s = num.start()\n            ind_e = num.end()\n            real_num = schema[i][ind_s+1:ind_e]\n            num_slice = ''\n            num_slice = num_slice.join(schema[i-1][ind_s:ind_e+1])\n            num_slice = num_slice.join(schema[i][ind_s:ind_e+1])\n            num_slice = num_slice.join(schema[i+1][ind_s:ind_e+1])\n            # print(num_slice)\n            if not bool(re.match('[\\d.]+$', num_slice)):\n                #print(real_num)\n                valid_sum += int(real_num)\n    return valid_sum",
      "metadata": {
        "tags": [],
        "trusted": true
      },
      "outputs": [],
      "execution_count": 182
    },
    {
      "cell_type": "code",
      "source": "capture_num(add_test_schema)",
      "metadata": {
        "trusted": true,
        "scrolled": true
      },
      "outputs": [
        {
          "execution_count": 183,
          "output_type": "execute_result",
          "data": {
            "text/plain": "4361"
          },
          "metadata": {}
        }
      ],
      "execution_count": 183
    },
    {
      "cell_type": "code",
      "source": "capture_num(add_engine_schema)",
      "metadata": {
        "trusted": true
      },
      "outputs": [
        {
          "execution_count": 184,
          "output_type": "execute_result",
          "data": {
            "text/plain": "536576"
          },
          "metadata": {}
        }
      ],
      "execution_count": 184
    },
    {
      "cell_type": "code",
      "source": "",
      "metadata": {
        "trusted": true
      },
      "outputs": [],
      "execution_count": null
    }
  ]
}