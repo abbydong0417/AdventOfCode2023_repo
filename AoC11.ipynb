{
  "metadata": {
    "kernelspec": {
      "name": "python",
      "display_name": "Python (Pyodide)",
      "language": "python"
    },
    "language_info": {
      "codemirror_mode": {
        "name": "python",
        "version": 3
      },
      "file_extension": ".py",
      "mimetype": "text/x-python",
      "name": "python",
      "nbconvert_exporter": "python",
      "pygments_lexer": "ipython3",
      "version": "3.8"
    }
  },
  "nbformat_minor": 4,
  "nbformat": 4,
  "cells": [
    {
      "cell_type": "code",
      "source": "import pandas",
      "metadata": {
        "trusted": true
      },
      "outputs": [],
      "execution_count": 1
    },
    {
      "cell_type": "code",
      "source": "data = pandas.read_csv('AoC11.txt', header = None)",
      "metadata": {
        "trusted": true
      },
      "outputs": [],
      "execution_count": 13
    },
    {
      "cell_type": "code",
      "source": "matrix = []\nfor line in data[0].tolist():\n    matrix.append(list(map(int, line.replace('.','0').replace('#', '1'))))",
      "metadata": {
        "trusted": true
      },
      "outputs": [],
      "execution_count": 14
    },
    {
      "cell_type": "code",
      "source": "def expand(matrix):\n    matrix_t = []\n    for ind in range(len(matrix[0])):\n        col = []\n        for line in matrix:\n            col.append(line[ind])\n        matrix_t.append(col)\n    x_span_matrix = []\n    for col in matrix_t:\n        x_span_matrix.append(col)\n        if not any(col):\n            x_span_matrix.append(col)\n    new_matrix = []\n    for ind_new in range(len(x_span_matrix[0])):\n        new_line = []\n        for col in x_span_matrix:\n             new_line.append(col[ind_new])\n        new_matrix.append(new_line)\n    y_span_matrix = []\n    for line in new_matrix:\n        y_span_matrix.append(line)\n        if not any(line):\n            y_span_matrix.append(line)\n    return y_span_matrix",
      "metadata": {
        "trusted": true
      },
      "outputs": [],
      "execution_count": 30
    },
    {
      "cell_type": "code",
      "source": "galaxies_list = []\nexpand_matrix = expand(matrix)\nfor i in range(len(expand_matrix)):\n    for j in range(len(expand_matrix[0])):\n        if expand_matrix[i][j]:\n            galaxies_list.append([i,j])",
      "metadata": {
        "trusted": true
      },
      "outputs": [],
      "execution_count": 33
    },
    {
      "cell_type": "code",
      "source": "galaxies_list",
      "metadata": {
        "trusted": true,
        "collapsed": true,
        "jupyter": {
          "outputs_hidden": true
        }
      },
      "outputs": [
        {
          "execution_count": 34,
          "output_type": "execute_result",
          "data": {
            "text/plain": "[[0, 20],\n [0, 29],\n [0, 64],\n [0, 130],\n [0, 147],\n [1, 12],\n [1, 49],\n [1, 96],\n [1, 106],\n [1, 125],\n [1, 137],\n [2, 1],\n [2, 25],\n [3, 61],\n [3, 116],\n [4, 35],\n [4, 84],\n [5, 43],\n [5, 69],\n [6, 22],\n [7, 51],\n [7, 63],\n [7, 74],\n [7, 101],\n [7, 131],\n [7, 139],\n [7, 146],\n [8, 6],\n [8, 16],\n [8, 29],\n [8, 81],\n [9, 1],\n [9, 34],\n [9, 58],\n [9, 86],\n [9, 113],\n [10, 42],\n [11, 94],\n [11, 118],\n [12, 73],\n [12, 124],\n [12, 130],\n [13, 8],\n [13, 26],\n [14, 36],\n [14, 56],\n [14, 135],\n [15, 13],\n [15, 41],\n [15, 68],\n [15, 88],\n [15, 109],\n [15, 143],\n [16, 0],\n [16, 82],\n [17, 22],\n [17, 29],\n [18, 50],\n [18, 114],\n [19, 37],\n [19, 96],\n [19, 122],\n [20, 8],\n [20, 25],\n [20, 61],\n [21, 19],\n [21, 91],\n [21, 100],\n [21, 117],\n [21, 132],\n [22, 111],\n [22, 138],\n [23, 34],\n [23, 42],\n [23, 124],\n [23, 144],\n [24, 13],\n [24, 48],\n [24, 77],\n [25, 21],\n [25, 58],\n [25, 102],\n [25, 120],\n [26, 66],\n [26, 92],\n [26, 128],\n [27, 0],\n [27, 10],\n [27, 30],\n [27, 85],\n [27, 112],\n [28, 35],\n [28, 74],\n [28, 139],\n [29, 44],\n [29, 56],\n [29, 106],\n [30, 3],\n [30, 50],\n [30, 130],\n [31, 8],\n [31, 19],\n [31, 28],\n [31, 118],\n [31, 136],\n [31, 143],\n [32, 65],\n [32, 87],\n [33, 73],\n [34, 121],\n [35, 15],\n [35, 48],\n [35, 108],\n [36, 27],\n [36, 99],\n [36, 141],\n [37, 11],\n [37, 33],\n [37, 54],\n [37, 68],\n [37, 83],\n [37, 92],\n [37, 115],\n [40, 135],\n [40, 145],\n [41, 127],\n [42, 8],\n [42, 25],\n [42, 31],\n [42, 37],\n [42, 57],\n [42, 105],\n [43, 51],\n [43, 93],\n [44, 4],\n [44, 16],\n [44, 84],\n [44, 100],\n [44, 117],\n [44, 137],\n [45, 44],\n [45, 63],\n [45, 142],\n [46, 20],\n [47, 0],\n [47, 7],\n [47, 34],\n [47, 55],\n [47, 73],\n [47, 81],\n [48, 98],\n [48, 122],\n [48, 147],\n [49, 11],\n [50, 85],\n [50, 107],\n [51, 23],\n [51, 38],\n [51, 45],\n [51, 63],\n [51, 95],\n [51, 131],\n [54, 19],\n [54, 31],\n [54, 137],\n [55, 111],\n [55, 117],\n [56, 58],\n [56, 91],\n [56, 125],\n [57, 15],\n [57, 70],\n [57, 84],\n [57, 97],\n [58, 43],\n [58, 106],\n [59, 9],\n [59, 50],\n [60, 26],\n [60, 114],\n [60, 123],\n [60, 146],\n [61, 62],\n [61, 81],\n [61, 94],\n [61, 101],\n [61, 129],\n [62, 17],\n [62, 40],\n [62, 74],\n [62, 135],\n [63, 117],\n [64, 31],\n [64, 85],\n [65, 44],\n [65, 56],\n [65, 132],\n [66, 3],\n [66, 26],\n [66, 35],\n [66, 105],\n [66, 124],\n [66, 146],\n [67, 49],\n [67, 66],\n [67, 94],\n [67, 110],\n [70, 0],\n [71, 6],\n [71, 21],\n [71, 61],\n [71, 70],\n [71, 140],\n [72, 14],\n [72, 28],\n [72, 38],\n [72, 87],\n [73, 106],\n [73, 135],\n [73, 146],\n [74, 43],\n [74, 66],\n [74, 111],\n [74, 117],\n [75, 33],\n [75, 56],\n [75, 94],\n [78, 77],\n [78, 132],\n [79, 2],\n [79, 50],\n [79, 100],\n [79, 121],\n [79, 127],\n [79, 141],\n [80, 22],\n [81, 31],\n [81, 38],\n [81, 105],\n [81, 113],\n [81, 135],\n [82, 10],\n [82, 16],\n [82, 69],\n [82, 86],\n [85, 28],\n [85, 65],\n [85, 77],\n [86, 57],\n [86, 95],\n [86, 124],\n [87, 131],\n [87, 141],\n [88, 19],\n [88, 51],\n [88, 87],\n [88, 105],\n [88, 115],\n [89, 10],\n [89, 25],\n [89, 135],\n [92, 16],\n [92, 80],\n [92, 146],\n [93, 33],\n [93, 111],\n [94, 5],\n [94, 56],\n [94, 99],\n [95, 29],\n [95, 64],\n [95, 84],\n [95, 117],\n [96, 93],\n [96, 126],\n [96, 135],\n [99, 11],\n [99, 22],\n [99, 73],\n [99, 140],\n [100, 49],\n [100, 66],\n [100, 123],\n [101, 6],\n [101, 18],\n [101, 82],\n [101, 99],\n [102, 31],\n [102, 92],\n [102, 109],\n [102, 145],\n [103, 14],\n [103, 38],\n [103, 63],\n [104, 25],\n [104, 51],\n [104, 134],\n [104, 141],\n [105, 113],\n [108, 3],\n [108, 61],\n [109, 40],\n [109, 97],\n [109, 107],\n [109, 122],\n [109, 128],\n [110, 20],\n [110, 55],\n [110, 86],\n [111, 0],\n [111, 34],\n [111, 92],\n [111, 102],\n [111, 111],\n [111, 141],\n [112, 11],\n [112, 73],\n [112, 133],\n [113, 6],\n [113, 29],\n [113, 48],\n [113, 83],\n [114, 58],\n [114, 106],\n [114, 119],\n [114, 137],\n [115, 18],\n [115, 39],\n [115, 100],\n [116, 26],\n [116, 87],\n [116, 95],\n [116, 129],\n [117, 32],\n [117, 45],\n [117, 111],\n [117, 145],\n [120, 3],\n [120, 63],\n [121, 14],\n [121, 54],\n [121, 141],\n [122, 124],\n [122, 136],\n [123, 19],\n [123, 100],\n [124, 29],\n [124, 38],\n [125, 67],\n [125, 121],\n [126, 2],\n [126, 13],\n [126, 50],\n [126, 86],\n [126, 96],\n [126, 114],\n [127, 34],\n [127, 131],\n [128, 21],\n [128, 61],\n [128, 102],\n [128, 109],\n [129, 8],\n [129, 16],\n [129, 119],\n [129, 139],\n [130, 27],\n [130, 42],\n [130, 55],\n [130, 69],\n [130, 145],\n [131, 1],\n [132, 12],\n [132, 50],\n [132, 127],\n [133, 64],\n [133, 81],\n [133, 92],\n [133, 98],\n [133, 108],\n [134, 6],\n [134, 34],\n [134, 114],\n [135, 58],\n [135, 131],\n [136, 0],\n [136, 27],\n [136, 41],\n [136, 70],\n [136, 84],\n [136, 122],\n [137, 20],\n [137, 96],\n [137, 111],\n [137, 138],\n [137, 144],\n [140, 55],\n [140, 77],\n [140, 129],\n [141, 3],\n [141, 24],\n [141, 31],\n [141, 63],\n [141, 88],\n [141, 108],\n [142, 12],\n [142, 49],\n [143, 99],\n [144, 19],\n [144, 94],\n [144, 114],\n [144, 132],\n [144, 142],\n [145, 0],\n [145, 34],\n [145, 43],\n [145, 56],\n [145, 105],\n [146, 5],\n [147, 23],\n [147, 77],\n [147, 121],\n [148, 68],\n [148, 83],\n [148, 97],\n [148, 109],\n [148, 145],\n [149, 14],\n [149, 37],\n [149, 45],\n [149, 127]]"
          },
          "metadata": {}
        }
      ],
      "execution_count": 34
    },
    {
      "cell_type": "code",
      "source": "distance = 0\nfor i in range(len(galaxies_list)):\n    for j in range(i+1,len(galaxies_list)):\n        distance += abs(galaxies_list[j][0]-galaxies_list[i][0])\n        distance += abs(galaxies_list[j][1]-galaxies_list[i][1])\ndistance",
      "metadata": {
        "trusted": true
      },
      "outputs": [
        {
          "execution_count": 37,
          "output_type": "execute_result",
          "data": {
            "text/plain": "9591768"
          },
          "metadata": {}
        }
      ],
      "execution_count": 37
    },
    {
      "cell_type": "code",
      "source": "abs(1-2)",
      "metadata": {
        "trusted": true
      },
      "outputs": [
        {
          "execution_count": 35,
          "output_type": "execute_result",
          "data": {
            "text/plain": "1"
          },
          "metadata": {}
        }
      ],
      "execution_count": 35
    },
    {
      "cell_type": "markdown",
      "source": "part 2",
      "metadata": {}
    },
    {
      "cell_type": "code",
      "source": "len(matrix)",
      "metadata": {
        "trusted": true
      },
      "outputs": [
        {
          "execution_count": 40,
          "output_type": "execute_result",
          "data": {
            "text/plain": "140"
          },
          "metadata": {}
        }
      ],
      "execution_count": 40
    },
    {
      "cell_type": "code",
      "source": "len(matrix[0])",
      "metadata": {
        "trusted": true
      },
      "outputs": [
        {
          "execution_count": 41,
          "output_type": "execute_result",
          "data": {
            "text/plain": "140"
          },
          "metadata": {}
        }
      ],
      "execution_count": 41
    },
    {
      "cell_type": "code",
      "source": "def find_black_hole(matrix):\n    ind_y = []\n    for i in range(len(matrix)):\n        if not any(matrix[i]):\n            ind_y.append(i)\n    matrix_t = []\n    for ind in range(len(matrix[0])):\n        col = []\n        for line in matrix:\n            col.append(line[ind])\n        matrix_t.append(col)\n    ind_x = []\n    for j in range(len(matrix_t)):\n        if not any(matrix_t[j]):\n            ind_x.append(j)\n    return [ind_y, ind_x]",
      "metadata": {
        "trusted": true
      },
      "outputs": [],
      "execution_count": 62
    },
    {
      "cell_type": "code",
      "source": "black_hole = find_black_hole(matrix)\nblack_hole",
      "metadata": {
        "trusted": true
      },
      "outputs": [
        {
          "execution_count": 63,
          "output_type": "execute_result",
          "data": {
            "text/plain": "[[38, 51, 66, 73, 79, 85, 91, 99, 110, 129], [46, 51, 57, 68, 71, 73, 83, 96]]"
          },
          "metadata": {}
        }
      ],
      "execution_count": 63
    },
    {
      "cell_type": "code",
      "source": "ori_galaxies_list = []\nfor i in range(len(matrix)):\n    for j in range(len(matrix[0])):\n        if matrix[i][j]:\n            ori_galaxies_list.append([i,j])",
      "metadata": {
        "trusted": true
      },
      "outputs": [],
      "execution_count": 64
    },
    {
      "cell_type": "code",
      "source": "ori_galaxies_list[0]",
      "metadata": {
        "trusted": true
      },
      "outputs": [
        {
          "execution_count": 65,
          "output_type": "execute_result",
          "data": {
            "text/plain": "[0, 20]"
          },
          "metadata": {}
        }
      ],
      "execution_count": 65
    },
    {
      "cell_type": "code",
      "source": "def division(galaxy, black_hole):\n    division = [len(black_hole[0]), len(black_hole[1])]\n    for i in range(len(black_hole[0])):\n        if galaxy[0]<black_hole[0][i]:\n            division[0] = i\n            break\n    for j in range(len(black_hole[1])):\n        if galaxy[1]<black_hole[1][j]:\n            division[1] = j\n            break\n    return division",
      "metadata": {
        "trusted": true
      },
      "outputs": [],
      "execution_count": 70
    },
    {
      "cell_type": "code",
      "source": "division([0,140],black_hole)",
      "metadata": {
        "trusted": true
      },
      "outputs": [
        {
          "execution_count": 74,
          "output_type": "execute_result",
          "data": {
            "text/plain": "[0, 8]"
          },
          "metadata": {}
        }
      ],
      "execution_count": 74
    },
    {
      "cell_type": "code",
      "source": "distance = 0\nfor i in range(len(galaxies_list)):\n    for j in range(i+1,len(galaxies_list)):\n        division_i = division(galaxies_list[i], black_hole)\n        division_j = division(galaxies_list[j], black_hole)\n        distance += abs(galaxies_list[j][0]-galaxies_list[i][0])\n        distance += abs(galaxies_list[j][1]-galaxies_list[i][1])\n        distance += abs(division_i[0]-division_j[0])*(1000000-1)\n        distance += abs(division_i[1]-division_j[1])*(1000000-1)\ndistance",
      "metadata": {
        "trusted": true
      },
      "outputs": [
        {
          "execution_count": 73,
          "output_type": "execute_result",
          "data": {
            "text/plain": "774270817506"
          },
          "metadata": {}
        }
      ],
      "execution_count": 73
    },
    {
      "cell_type": "code",
      "source": "",
      "metadata": {
        "trusted": true
      },
      "outputs": [],
      "execution_count": null
    }
  ]
}