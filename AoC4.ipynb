{
  "metadata": {
    "kernelspec": {
      "name": "python",
      "display_name": "Python (Pyodide)",
      "language": "python"
    },
    "language_info": {
      "codemirror_mode": {
        "name": "python",
        "version": 3
      },
      "file_extension": ".py",
      "mimetype": "text/x-python",
      "name": "python",
      "nbconvert_exporter": "python",
      "pygments_lexer": "ipython3",
      "version": "3.8"
    }
  },
  "nbformat_minor": 4,
  "nbformat": 4,
  "cells": [
    {
      "cell_type": "code",
      "source": "import pandas",
      "metadata": {
        "trusted": true
      },
      "outputs": [],
      "execution_count": 1
    },
    {
      "cell_type": "code",
      "source": "data = pandas.read_csv('AoC4.txt',sep = \":\", header = None)\ncard_pair_list = data[1].tolist()",
      "metadata": {
        "trusted": true
      },
      "outputs": [],
      "execution_count": 6
    },
    {
      "cell_type": "markdown",
      "source": "part 1",
      "metadata": {}
    },
    {
      "cell_type": "code",
      "source": "import re\ndef process(pair_list):\n    new_pair_list = []\n    for pair in pair_list:\n        num_pair = []\n        new_pair = pair.split('|')\n        num_pair.append(re.findall(r'\\d+', new_pair[0]))\n        num_pair.append(re.findall(r'\\d+', new_pair[1]))\n        new_pair_list.append(num_pair)\n    return new_pair_list",
      "metadata": {
        "trusted": true
      },
      "outputs": [],
      "execution_count": 36
    },
    {
      "cell_type": "code",
      "source": "num_pair_list = process(card_pair_list)",
      "metadata": {
        "trusted": true
      },
      "outputs": [],
      "execution_count": 96
    },
    {
      "cell_type": "code",
      "source": "num_pair_list = process(test_pair)",
      "metadata": {
        "trusted": true
      },
      "outputs": [],
      "execution_count": 78
    },
    {
      "cell_type": "code",
      "source": "test_pair = [' 41 48 83 86 17 | 83 86  6 31 17  9 48 53',\n' 13 32 20 16 61 | 61 30 68 82 17 32 24 19',\n' 1 21 53 59 44 | 69 82 63 72 16 21 14  1',\n' 41 92 73 84 69 | 59 84 76 51 58  5 54 83',\n' 87 83 26 28 32 | 88 30 70 12 93 22 82 36',\n' 31 18 13 56 72 | 74 77 10 23 35 67 36 11']",
      "metadata": {
        "trusted": true
      },
      "outputs": [],
      "execution_count": 79
    },
    {
      "cell_type": "code",
      "source": "def overlap_score(pair_list):\n    score = 0\n    overlap_list = []\n    for pair in pair_list:\n        overlap = []\n        for p in pair[1]:\n            if p in pair[0]:\n                overlap.append(p)\n        if len(overlap) == 0:\n            pass\n        else:\n            score += 2 ** (len(overlap)-1)\n    return score",
      "metadata": {
        "trusted": true
      },
      "outputs": [],
      "execution_count": 94
    },
    {
      "cell_type": "code",
      "source": "overlap_score(num_pair_list)",
      "metadata": {
        "trusted": true
      },
      "outputs": [
        {
          "execution_count": 97,
          "output_type": "execute_result",
          "data": {
            "text/plain": "19135"
          },
          "metadata": {}
        }
      ],
      "execution_count": 97
    },
    {
      "cell_type": "code",
      "source": "",
      "metadata": {
        "trusted": true
      },
      "outputs": [],
      "execution_count": null
    }
  ]
}