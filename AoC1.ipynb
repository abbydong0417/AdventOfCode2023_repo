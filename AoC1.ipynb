{
  "metadata": {
    "language_info": {
      "codemirror_mode": {
        "name": "python",
        "version": 3
      },
      "file_extension": ".py",
      "mimetype": "text/x-python",
      "name": "python",
      "nbconvert_exporter": "python",
      "pygments_lexer": "ipython3",
      "version": "3.8"
    },
    "kernelspec": {
      "name": "python",
      "display_name": "Python (Pyodide)",
      "language": "python"
    }
  },
  "nbformat_minor": 4,
  "nbformat": 4,
  "cells": [
    {
      "cell_type": "code",
      "source": "import pandas",
      "metadata": {
        "trusted": true
      },
      "execution_count": 251,
      "outputs": []
    },
    {
      "cell_type": "markdown",
      "source": "Part 1",
      "metadata": {}
    },
    {
      "cell_type": "code",
      "source": "data = pandas.read_csv('AoC1.txt', header = None)\ntrebuchet_list = data[0].tolist()",
      "metadata": {
        "tags": [],
        "trusted": true
      },
      "execution_count": 254,
      "outputs": []
    },
    {
      "cell_type": "code",
      "source": "num_sum = 0",
      "metadata": {
        "trusted": true
      },
      "execution_count": 255,
      "outputs": []
    },
    {
      "cell_type": "code",
      "source": "for trebuchet in trebuchet_list:\n    num = 0\n    num_list = list(filter(str.isdigit, trebuchet))\n    num = int(num_list[0]) * 10 + int(num_list[-1])\n    num_sum += num",
      "metadata": {
        "trusted": true
      },
      "execution_count": 256,
      "outputs": []
    },
    {
      "cell_type": "code",
      "source": "num_sum",
      "metadata": {
        "trusted": true
      },
      "execution_count": 257,
      "outputs": [
        {
          "execution_count": 252,
          "output_type": "execute_result",
          "data": {
            "text/plain": "56465"
          },
          "metadata": {}
        }
      ]
    },
    {
      "cell_type": "markdown",
      "source": "Part 2",
      "metadata": {}
    },
    {
      "cell_type": "code",
      "source": "test_list = ['two1nine', 'eight2three', 'abcone2threexyz', 'xtwone3four', '4nineeightseven2', 'zoneight234',\n             '7pqrstsixteen']",
      "metadata": {
        "trusted": true
      },
      "execution_count": 258,
      "outputs": []
    },
    {
      "cell_type": "code",
      "source": "num2word = {'1': 'one', '2': 'two', '3': 'three',\n             '4':'four', '5':'five', '6': 'six',\n             '7':'seven', '8': 'eight', '9':'nine'}",
      "metadata": {
        "trusted": true
      },
      "execution_count": 259,
      "outputs": []
    },
    {
      "cell_type": "code",
      "source": "def find_word_digit(string):\n    word_digit_list = []\n    for num in num2word:\n        word_ind = string.find(num2word[num])\n        word_digit_list.append(word_ind) \n    return word_digit_list",
      "metadata": {
        "tags": [],
        "trusted": true
      },
      "execution_count": 260,
      "outputs": []
    },
    {
      "cell_type": "code",
      "source": "num_sum = 0\nfor trebuchet in trebuchet_list:\n    num = 0\n    num_list = list(filter(str.isdigit, trebuchet))\n    left = trebuchet[:trebuchet.find(num_list[0])]\n    right = trebuchet[trebuchet.rfind(num_list[-1]):]\n    left_word_list = find_word_digit(left)\n    right_word_list = find_word_digit(right)\n    try:\n        min_ind = left_word_list.index(min(filter(lambda x : x > -1, left_word_list)))\n        num_list.insert(0, str(min_ind+1))\n    except ValueError:\n        pass\n    try:\n        max_ind = right_word_list.index(max(filter(lambda x : x > -1, right_word_list)))\n        num_list.append(str(max_ind+1))\n    except ValueError:\n        pass\n    num = int(num_list[0]) * 10 + int(num_list[-1])\n    num_sum += num",
      "metadata": {
        "tags": [],
        "trusted": true
      },
      "execution_count": 261,
      "outputs": []
    },
    {
      "cell_type": "code",
      "source": "num_sum",
      "metadata": {
        "trusted": true
      },
      "execution_count": 262,
      "outputs": [
        {
          "execution_count": 257,
          "output_type": "execute_result",
          "data": {
            "text/plain": "55883"
          },
          "metadata": {}
        }
      ]
    },
    {
      "cell_type": "code",
      "source": "",
      "metadata": {},
      "execution_count": null,
      "outputs": []
    }
  ]
}