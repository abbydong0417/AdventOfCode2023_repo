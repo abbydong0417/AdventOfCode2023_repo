{
  "metadata": {
    "language_info": {
      "codemirror_mode": {
        "name": "python",
        "version": 3
      },
      "file_extension": ".py",
      "mimetype": "text/x-python",
      "name": "python",
      "nbconvert_exporter": "python",
      "pygments_lexer": "ipython3",
      "version": "3.8"
    },
    "kernelspec": {
      "name": "python",
      "display_name": "Python (Pyodide)",
      "language": "python"
    }
  },
  "nbformat_minor": 4,
  "nbformat": 4,
  "cells": [
    {
      "cell_type": "code",
      "source": "import pandas",
      "metadata": {
        "trusted": true
      },
      "execution_count": 1,
      "outputs": []
    },
    {
      "cell_type": "code",
      "source": "data = pandas.read_csv('AoC2.txt',sep = \":\", header = None)\ndata.head()",
      "metadata": {
        "trusted": true
      },
      "execution_count": 7,
      "outputs": [
        {
          "execution_count": 7,
          "output_type": "execute_result",
          "data": {
            "text/plain": "        0                                                  1\n0  Game 1   4 red, 5 blue, 9 green; 7 green, 7 blue, 3 re...\n1  Game 2   12 blue, 11 green, 3 red; 6 blue, 5 green, 7 ...\n2  Game 3   8 blue, 5 green, 2 red; 5 blue, 5 green, 7 re...\n3  Game 4   3 red, 14 blue, 15 green; 1 red, 11 green, 14...\n4  Game 5   11 green, 2 red, 10 blue; 16 green, 8 blue; 2...",
            "text/html": "<div>\n<style scoped>\n    .dataframe tbody tr th:only-of-type {\n        vertical-align: middle;\n    }\n\n    .dataframe tbody tr th {\n        vertical-align: top;\n    }\n\n    .dataframe thead th {\n        text-align: right;\n    }\n</style>\n<table border=\"1\" class=\"dataframe\">\n  <thead>\n    <tr style=\"text-align: right;\">\n      <th></th>\n      <th>0</th>\n      <th>1</th>\n    </tr>\n  </thead>\n  <tbody>\n    <tr>\n      <th>0</th>\n      <td>Game 1</td>\n      <td>4 red, 5 blue, 9 green; 7 green, 7 blue, 3 re...</td>\n    </tr>\n    <tr>\n      <th>1</th>\n      <td>Game 2</td>\n      <td>12 blue, 11 green, 3 red; 6 blue, 5 green, 7 ...</td>\n    </tr>\n    <tr>\n      <th>2</th>\n      <td>Game 3</td>\n      <td>8 blue, 5 green, 2 red; 5 blue, 5 green, 7 re...</td>\n    </tr>\n    <tr>\n      <th>3</th>\n      <td>Game 4</td>\n      <td>3 red, 14 blue, 15 green; 1 red, 11 green, 14...</td>\n    </tr>\n    <tr>\n      <th>4</th>\n      <td>Game 5</td>\n      <td>11 green, 2 red, 10 blue; 16 green, 8 blue; 2...</td>\n    </tr>\n  </tbody>\n</table>\n</div>"
          },
          "metadata": {}
        }
      ]
    },
    {
      "cell_type": "code",
      "source": "game_list = data[1].tolist()",
      "metadata": {
        "trusted": true
      },
      "execution_count": 12,
      "outputs": []
    },
    {
      "cell_type": "markdown",
      "source": "Part 1",
      "metadata": {}
    },
    {
      "cell_type": "code",
      "source": "# for each set, return a list representing numbers of cubes in different color\n# num_list = [#red, #green, #blue]\ndef find_num(set_string):\n    num_list = [0, 0, 0]\n    set_list = set_string.split(',')\n    for item in set_list:\n        if 'red' in item:\n            num_list[0] = int(item.split(' ')[1])\n        elif 'green' in item:\n            num_list[1] = int(item.split(' ')[1])\n        elif 'blue' in item:\n            num_list[2] = int(item.split(' ')[1])\n    return num_list",
      "metadata": {
        "trusted": true
      },
      "execution_count": 91,
      "outputs": []
    },
    {
      "cell_type": "code",
      "source": "def is_valid(game_set):\n    for set_string in game_set:\n        num_list = find_num(set_string)\n        if (num_list[0]>12 or num_list[1]>13 or num_list[2]>14):\n            return False\n    return True",
      "metadata": {
        "trusted": true
      },
      "execution_count": 92,
      "outputs": []
    },
    {
      "cell_type": "code",
      "source": "test_list = [' 3 blue, 4 red; 1 red, 2 green, 6 blue; 2 green',\n            ' 1 blue, 2 green; 3 green, 4 blue, 1 red; 1 green, 1 blue',\n            ' 8 green, 6 blue, 20 red; 5 blue, 4 red, 13 green; 5 green, 1 red',\n            ' 1 green, 3 red, 6 blue; 3 green, 6 red; 3 green, 15 blue, 14 red',\n            ' 6 red, 1 blue, 3 green; 2 blue, 1 red, 2 green']",
      "metadata": {
        "trusted": true
      },
      "execution_count": 93,
      "outputs": []
    },
    {
      "cell_type": "code",
      "source": "valid_num = 0\nfor i in range(len(game_list)):\n    if is_valid(game_list[i].split(';')):\n        valid_num += (i+1)\n    else:\n        pass\nvalid_num",
      "metadata": {
        "trusted": true
      },
      "execution_count": 94,
      "outputs": [
        {
          "execution_count": 94,
          "output_type": "execute_result",
          "data": {
            "text/plain": "2795"
          },
          "metadata": {}
        }
      ]
    },
    {
      "cell_type": "markdown",
      "source": "Part 2",
      "metadata": {}
    },
    {
      "cell_type": "code",
      "source": "# for each set, return a list representing numbers of cubes in different color\n# num_list = [#red, #green, #blue]\ndef find_min_num(game_set):\n    min_num_list = [0, 0, 0]\n    for set_string in game_set.split(';'):\n        set_list = set_string.split(',')\n        for item in set_list:\n            if 'red' in item:\n                red_number = int(item.split(' ')[1])\n                if red_number > min_num_list[0]:\n                    min_num_list[0] = red_number\n            elif 'green' in item:\n                green_number = int(item.split(' ')[1])\n                if green_number > min_num_list[1]:\n                    min_num_list[1] = green_number\n            elif 'blue' in item:\n                blue_number = int(item.split(' ')[1])\n                if blue_number > min_num_list[2]:\n                    min_num_list[2] = blue_number\n    return min_num_list",
      "metadata": {
        "trusted": true
      },
      "execution_count": 96,
      "outputs": []
    },
    {
      "cell_type": "code",
      "source": "sum_power = 0\nfor game_set in game_list:\n    min_num_list = find_min_num(game_set)\n    power = 1\n    for num in min_num_list:\n        power *= num\n    sum_power += power",
      "metadata": {
        "trusted": true
      },
      "execution_count": 103,
      "outputs": []
    },
    {
      "cell_type": "code",
      "source": "sum_power",
      "metadata": {
        "trusted": true
      },
      "execution_count": 104,
      "outputs": [
        {
          "execution_count": 104,
          "output_type": "execute_result",
          "data": {
            "text/plain": "75561"
          },
          "metadata": {}
        }
      ]
    },
    {
      "cell_type": "code",
      "source": "",
      "metadata": {},
      "execution_count": null,
      "outputs": []
    }
  ]
}