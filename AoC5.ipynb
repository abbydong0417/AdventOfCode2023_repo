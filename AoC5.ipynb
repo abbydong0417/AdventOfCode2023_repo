{
  "metadata": {
    "kernelspec": {
      "name": "python",
      "display_name": "Python (Pyodide)",
      "language": "python"
    },
    "language_info": {
      "codemirror_mode": {
        "name": "python",
        "version": 3
      },
      "file_extension": ".py",
      "mimetype": "text/x-python",
      "name": "python",
      "nbconvert_exporter": "python",
      "pygments_lexer": "ipython3",
      "version": "3.8"
    }
  },
  "nbformat_minor": 4,
  "nbformat": 4,
  "cells": [
    {
      "cell_type": "code",
      "source": "import pandas",
      "metadata": {
        "trusted": true
      },
      "outputs": [],
      "execution_count": 131
    },
    {
      "cell_type": "code",
      "source": "data = []\nfor i in range(1,8):\n    data.append(pandas.read_csv('AoC5-'+str(i)+'.txt',header = None)[0].tolist())",
      "metadata": {
        "trusted": true,
        "scrolled": true
      },
      "outputs": [],
      "execution_count": 132
    },
    {
      "cell_type": "code",
      "source": "seed = '1187290020 247767461 40283135 64738286 2044483296 66221787 1777809491 103070898 108732160 261552692 3810626561 257826205 3045614911 65672948 744199732 300163578 3438684365 82800966 2808575117 229295075'.split(' ')",
      "metadata": {
        "trusted": true
      },
      "outputs": [],
      "execution_count": 133
    },
    {
      "cell_type": "code",
      "source": "seed = list(map(int, seed))",
      "metadata": {
        "trusted": true
      },
      "outputs": [],
      "execution_count": 134
    },
    {
      "cell_type": "code",
      "source": "def str2list(map):\n    new_map = []\n    for item in map:\n        new_item = item.split()\n        new_map.append([int(x) for x in new_item])\n    return new_map    ",
      "metadata": {
        "trusted": true
      },
      "outputs": [],
      "execution_count": 135
    },
    {
      "cell_type": "code",
      "source": "mapping = []\nfor item in data:\n    mapping.append(sorted(str2list(item), key=lambda x: x[1]))",
      "metadata": {
        "trusted": true
      },
      "outputs": [],
      "execution_count": 136
    },
    {
      "cell_type": "code",
      "source": "def convert(map, input):\n    output = 0\n    for i in range(len(map)):\n        if (input >= map[i][1] and input <= (map[i][1] + map[i][2]-1)):\n            output = map[i][0] + (input - map[i][1])\n            return output\n    else:\n        return input",
      "metadata": {
        "trusted": true
      },
      "outputs": [],
      "execution_count": 137
    },
    {
      "cell_type": "code",
      "source": "def result(map, seed):\n    location = []\n    for s in seed:\n        i = 0\n        while i < len(map):\n            s = convert(map[i], s)\n            i += 1\n        location.append(s)\n    return location",
      "metadata": {
        "trusted": true
      },
      "outputs": [],
      "execution_count": 169
    },
    {
      "cell_type": "code",
      "source": "min(result(mapping, seed))",
      "metadata": {
        "trusted": true,
        "scrolled": true
      },
      "outputs": [
        {
          "execution_count": 171,
          "output_type": "execute_result",
          "data": {
            "text/plain": "282277027"
          },
          "metadata": {}
        }
      ],
      "execution_count": 171
    },
    {
      "cell_type": "markdown",
      "source": "part 2",
      "metadata": {}
    },
    {
      "cell_type": "code",
      "source": "seed",
      "metadata": {
        "trusted": true,
        "scrolled": true,
        "collapsed": true,
        "jupyter": {
          "outputs_hidden": true
        }
      },
      "outputs": [
        {
          "execution_count": 140,
          "output_type": "execute_result",
          "data": {
            "text/plain": "[1187290020,\n 247767461,\n 40283135,\n 64738286,\n 2044483296,\n 66221787,\n 1777809491,\n 103070898,\n 108732160,\n 261552692,\n 3810626561,\n 257826205,\n 3045614911,\n 65672948,\n 744199732,\n 300163578,\n 3438684365,\n 82800966,\n 2808575117,\n 229295075]"
          },
          "metadata": {}
        }
      ],
      "execution_count": 140
    },
    {
      "cell_type": "code",
      "source": "def range_output(seed):\n    new_seed = []\n    for i in range(int(len(seed)/2)):\n        new_seed.extend([seed[2*i], seed[2*i]+seed[2*i+1]])\n    return new_seed",
      "metadata": {
        "trusted": true
      },
      "outputs": [],
      "execution_count": 175
    },
    {
      "cell_type": "code",
      "source": "range_result = result(mapping, range_output(seed))\nrange_result.index(min(range_result))",
      "metadata": {
        "trusted": true
      },
      "outputs": [
        {
          "execution_count": 180,
          "output_type": "execute_result",
          "data": {
            "text/plain": "0"
          },
          "metadata": {}
        }
      ],
      "execution_count": 180
    },
    {
      "cell_type": "code",
      "source": "range_result",
      "metadata": {
        "trusted": true
      },
      "outputs": [
        {
          "execution_count": 184,
          "output_type": "execute_result",
          "data": {
            "text/plain": "[393472033,\n 3828921387,\n 2532608953,\n 3222425344,\n 3657723054,\n 4273106049,\n 3501954788,\n 4020410551,\n 3226136083,\n 4157310707,\n 443214510,\n 3920436952,\n 1178689907,\n 1244362855,\n 2968818565,\n 4290727461,\n 572440846,\n 2789496458,\n 1358279156,\n 1170945188]"
          },
          "metadata": {}
        }
      ],
      "execution_count": 184
    },
    {
      "cell_type": "code",
      "source": "result(mapping, [seed[0]])",
      "metadata": {
        "trusted": true
      },
      "outputs": [
        {
          "execution_count": 183,
          "output_type": "execute_result",
          "data": {
            "text/plain": "[393472033]"
          },
          "metadata": {}
        }
      ],
      "execution_count": 183
    },
    {
      "cell_type": "code",
      "source": "mapping[-1]",
      "metadata": {
        "trusted": true
      },
      "outputs": [
        {
          "execution_count": 173,
          "output_type": "execute_result",
          "data": {
            "text/plain": "[[270068585, 0, 183964832],\n [736435707, 183964832, 131646187],\n [962493743, 315611019, 35407416],\n [619680743, 351018435, 72089891],\n [552318111, 423108326, 67362632],\n [1013393252, 490470958, 115911318],\n [697523568, 606382276, 38912139],\n [0, 645294415, 270068585],\n [997901159, 915363000, 15492093],\n [691770634, 930855093, 5752934],\n [868081894, 936608027, 94411849],\n [454033417, 1031019876, 98284694],\n [1733500821, 1302115255, 150511697],\n [3754007618, 1452626952, 7196695],\n [1554011298, 1459823647, 179489523],\n [1996782879, 1639313170, 376238664],\n [2504037140, 2015551834, 225043626],\n [2729080766, 2240595460, 61820247],\n [3230895262, 2302415707, 63420952],\n [3069409996, 2365836659, 129699055],\n [1884012518, 2495535714, 112770361],\n [3022503077, 2608306075, 46906919],\n [1302115255, 2655212994, 40462640],\n [2856512732, 2695675634, 165990345],\n [3199109051, 2861665979, 31786211],\n [3800980345, 2893452190, 286098783],\n [1342577895, 3179550973, 89352473],\n [4200677045, 3268903446, 94290251],\n [2468743613, 3363193697, 35293527],\n [1471845786, 3398487224, 82165512],\n [3316292469, 3480652736, 191111848],\n [3694231699, 3671764584, 59775919],\n [3507404317, 3731540503, 41469688],\n [2373021543, 3773010191, 190266],\n [1431930368, 3773200457, 39915418],\n [3640846022, 3813115875, 53385677],\n [3761204313, 3866501552, 39776032],\n [2790901013, 3906277584, 65611719],\n [3294316214, 3971889303, 21976255],\n [3548874005, 3993865558, 91972017],\n [2460464047, 4085837575, 8279566],\n [2373211809, 4094117141, 87252238],\n [4087079128, 4181369379, 113597917]]"
          },
          "metadata": {}
        }
      ],
      "execution_count": 173
    },
    {
      "cell_type": "code",
      "source": "",
      "metadata": {
        "trusted": true
      },
      "outputs": [],
      "execution_count": null
    }
  ]
}