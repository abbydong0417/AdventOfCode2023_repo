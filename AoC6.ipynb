{
  "metadata": {
    "kernelspec": {
      "name": "python",
      "display_name": "Python (Pyodide)",
      "language": "python"
    },
    "language_info": {
      "codemirror_mode": {
        "name": "python",
        "version": 3
      },
      "file_extension": ".py",
      "mimetype": "text/x-python",
      "name": "python",
      "nbconvert_exporter": "python",
      "pygments_lexer": "ipython3",
      "version": "3.8"
    }
  },
  "nbformat_minor": 4,
  "nbformat": 4,
  "cells": [
    {
      "cell_type": "code",
      "source": "time = [35, 69, 68, 87]\ndistance = [213, 1168, 1086, 1248]",
      "metadata": {
        "trusted": true
      },
      "outputs": [],
      "execution_count": 1
    },
    {
      "cell_type": "markdown",
      "source": "brute force solution",
      "metadata": {}
    },
    {
      "cell_type": "code",
      "source": "def way(t, d):\n    way = 0\n    for i in range(t+1):\n        if i * (t-i) > d:\n            way += 1\n    return way",
      "metadata": {
        "trusted": true
      },
      "outputs": [],
      "execution_count": 54
    },
    {
      "cell_type": "code",
      "source": "for i in range(4):\n    sum = 1\n    print(way(time[i], distance[i]))\n    #sum *= way(test_time[i], test_distance[i])",
      "metadata": {
        "trusted": true
      },
      "outputs": [
        {
          "name": "stdout",
          "text": "20\n10\n17\n50\n",
          "output_type": "stream"
        }
      ],
      "execution_count": 60
    },
    {
      "cell_type": "code",
      "source": "20 * 10*17*50",
      "metadata": {
        "trusted": true
      },
      "outputs": [
        {
          "execution_count": 61,
          "output_type": "execute_result",
          "data": {
            "text/plain": "170000"
          },
          "metadata": {}
        }
      ],
      "execution_count": 61
    },
    {
      "cell_type": "code",
      "source": "def calculate(time, distance):\n    delta = (time** 2)/4 - distance\n    min = - delta ** 0.5 + time/2\n    max = delta ** 0.5 + time/2\n    return max, min",
      "metadata": {
        "trusted": true
      },
      "outputs": [],
      "execution_count": 62
    },
    {
      "cell_type": "code",
      "source": "new_time = 35696887\nnew_distance = 213116810861248",
      "metadata": {
        "trusted": true
      },
      "outputs": [],
      "execution_count": 63
    },
    {
      "cell_type": "code",
      "source": "calculate(new_time, new_distance)",
      "metadata": {
        "trusted": true
      },
      "outputs": [
        {
          "execution_count": 64,
          "output_type": "execute_result",
          "data": {
            "text/plain": "(28117334.604274318, 7579552.3957256805)"
          },
          "metadata": {}
        }
      ],
      "execution_count": 64
    },
    {
      "cell_type": "code",
      "source": "28117334 - 7579553 + 1",
      "metadata": {
        "trusted": true
      },
      "outputs": [
        {
          "execution_count": 67,
          "output_type": "execute_result",
          "data": {
            "text/plain": "20537782"
          },
          "metadata": {}
        }
      ],
      "execution_count": 67
    },
    {
      "cell_type": "code",
      "source": "test_time = [7,15,30]\ntest_distance = [9,40,200]",
      "metadata": {
        "trusted": true
      },
      "outputs": [],
      "execution_count": 51
    }
  ]
}