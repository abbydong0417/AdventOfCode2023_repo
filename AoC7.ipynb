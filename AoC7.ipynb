{
  "metadata": {
    "kernelspec": {
      "name": "python",
      "display_name": "Python (Pyodide)",
      "language": "python"
    },
    "language_info": {
      "codemirror_mode": {
        "name": "python",
        "version": 3
      },
      "file_extension": ".py",
      "mimetype": "text/x-python",
      "name": "python",
      "nbconvert_exporter": "python",
      "pygments_lexer": "ipython3",
      "version": "3.8"
    }
  },
  "nbformat_minor": 4,
  "nbformat": 4,
  "cells": [
    {
      "cell_type": "code",
      "source": "import pandas",
      "metadata": {
        "trusted": true
      },
      "outputs": [],
      "execution_count": 1
    },
    {
      "cell_type": "code",
      "source": "data = pandas.read_csv('AoC7.txt', header = None)\ndata.head(10)",
      "metadata": {
        "trusted": true
      },
      "outputs": [
        {
          "execution_count": 64,
          "output_type": "execute_result",
          "data": {
            "text/plain": "           0\n0   7227Q 52\n1  67Q64 732\n2  33Q33 573\n3  58ATQ 939\n4  93K53 840\n5  55AJ8 496\n6  6ATAT 863\n7    26J77 1\n8  TTQAT 381\n9  2J2J2 322",
            "text/html": "<div>\n<style scoped>\n    .dataframe tbody tr th:only-of-type {\n        vertical-align: middle;\n    }\n\n    .dataframe tbody tr th {\n        vertical-align: top;\n    }\n\n    .dataframe thead th {\n        text-align: right;\n    }\n</style>\n<table border=\"1\" class=\"dataframe\">\n  <thead>\n    <tr style=\"text-align: right;\">\n      <th></th>\n      <th>0</th>\n    </tr>\n  </thead>\n  <tbody>\n    <tr>\n      <th>0</th>\n      <td>7227Q 52</td>\n    </tr>\n    <tr>\n      <th>1</th>\n      <td>67Q64 732</td>\n    </tr>\n    <tr>\n      <th>2</th>\n      <td>33Q33 573</td>\n    </tr>\n    <tr>\n      <th>3</th>\n      <td>58ATQ 939</td>\n    </tr>\n    <tr>\n      <th>4</th>\n      <td>93K53 840</td>\n    </tr>\n    <tr>\n      <th>5</th>\n      <td>55AJ8 496</td>\n    </tr>\n    <tr>\n      <th>6</th>\n      <td>6ATAT 863</td>\n    </tr>\n    <tr>\n      <th>7</th>\n      <td>26J77 1</td>\n    </tr>\n    <tr>\n      <th>8</th>\n      <td>TTQAT 381</td>\n    </tr>\n    <tr>\n      <th>9</th>\n      <td>2J2J2 322</td>\n    </tr>\n  </tbody>\n</table>\n</div>"
          },
          "metadata": {}
        }
      ],
      "execution_count": 64
    },
    {
      "cell_type": "code",
      "source": "hands = data[0].tolist()\nhand_dict = {}\nfor hand in hands:\n    hand_dict[hand.split()[0]] = [int(hand.split()[1])]\nhand_dict[hands[0].split()[0]]",
      "metadata": {
        "trusted": true
      },
      "outputs": [
        {
          "execution_count": 100,
          "output_type": "execute_result",
          "data": {
            "text/plain": "[52]"
          },
          "metadata": {}
        }
      ],
      "execution_count": 100
    },
    {
      "cell_type": "code",
      "source": "def max_count(str_list):\n    str_set = set(str_list)\n    max_num = 0\n    for set_letter in str_set:\n        num_set_letter = 0\n        for letter in str_list:\n            if letter == set_letter:\n                num_set_letter += 1\n        if max_num < num_set_letter:\n            max_num = num_set_letter\n    return max_num",
      "metadata": {
        "trusted": true
      },
      "outputs": [],
      "execution_count": 101
    },
    {
      "cell_type": "code",
      "source": "def calculate_type(string):\n    str_list = list(string)\n    str_set = set(str_list)\n    if len(str_set) == 1:\n        return 7\n    elif len(str_set) == 2:\n        if max_count(str_list) == 4:\n            return 6\n        else:\n            return 5\n    elif len(str_set) == 3:\n        if max_count(str_list) == 3:\n            return 4\n        else:\n            return 3\n    else:\n        if max_count(str_list) == 2:\n            return 2\n        else:\n            return 1",
      "metadata": {
        "trusted": true
      },
      "outputs": [],
      "execution_count": 102
    },
    {
      "cell_type": "code",
      "source": "def letter2num(letter):\n    dictionary = {'2':2, '3':3, '4':4, '5':5, '6':6, '7':7, '8':8, '9':9, 'T':10, 'J':11, 'Q':12, 'K':13, 'A':14}\n    return dictionary[letter]",
      "metadata": {
        "trusted": true
      },
      "outputs": [],
      "execution_count": 103
    },
    {
      "cell_type": "code",
      "source": "for hand in hand_dict:\n    hand_dict[hand].append(calculate_type(hand))\n    for letter in hand:\n        hand_dict[hand].append(letter2num(letter))\nhand_dict[hands[0].split()[0]]",
      "metadata": {
        "trusted": true
      },
      "outputs": [
        {
          "execution_count": 104,
          "output_type": "execute_result",
          "data": {
            "text/plain": "[52, 3, 7, 2, 2, 7, 12]"
          },
          "metadata": {}
        }
      ],
      "execution_count": 104
    },
    {
      "cell_type": "code",
      "source": "value_list=[]\nfor hand in hand_dict:\n    value_list.append(hand_dict[hand])",
      "metadata": {
        "trusted": true,
        "scrolled": true
      },
      "outputs": [],
      "execution_count": 105
    },
    {
      "cell_type": "code",
      "source": "sorted_value = sorted(value_list, key = lambda x: (x[1], x[2], x[3], x[4], x[5], x[6]))",
      "metadata": {
        "trusted": true
      },
      "outputs": [],
      "execution_count": 106
    },
    {
      "cell_type": "code",
      "source": "sum = 0\nfor i in range(len(sorted_value)):\n    sum += sorted_value[i][0]*(i+1)\nsum",
      "metadata": {
        "trusted": true
      },
      "outputs": [
        {
          "execution_count": 107,
          "output_type": "execute_result",
          "data": {
            "text/plain": "250058342"
          },
          "metadata": {}
        }
      ],
      "execution_count": 107
    },
    {
      "cell_type": "markdown",
      "source": "Part 2",
      "metadata": {}
    },
    {
      "cell_type": "code",
      "source": "hands = data[0].tolist()\nhand_dict = {}\nfor hand in hands:\n    hand_dict[hand.split()[0]] = [int(hand.split()[1])]\nhand_dict[hands[0].split()[0]]",
      "metadata": {
        "trusted": true
      },
      "outputs": [
        {
          "execution_count": 141,
          "output_type": "execute_result",
          "data": {
            "text/plain": "[52]"
          },
          "metadata": {}
        }
      ],
      "execution_count": 141
    },
    {
      "cell_type": "code",
      "source": "def transform(string):\n    if string == 'JJJJJ':\n        return string\n    else:\n        str_set = set(list(string))\n        occur_list = []\n        for set_letter in str_set:\n            num_set_letter = 0\n            for letter in list(string):\n                if letter == set_letter:\n                    num_set_letter += 1\n            occur_list.append([set_letter, num_set_letter])\n        sorted_occur_list = sorted(occur_list, key = lambda x: x[1], reverse = True)\n        if 'J' == sorted_occur_list[0][0]:\n            new_string = string.replace('J', sorted_occur_list[1][0])\n        else:\n            new_string = string.replace('J', sorted_occur_list[0][0])\n        return new_string",
      "metadata": {
        "trusted": true
      },
      "outputs": [],
      "execution_count": 142
    },
    {
      "cell_type": "code",
      "source": "transform('KTJJT')",
      "metadata": {
        "trusted": true
      },
      "outputs": [
        {
          "execution_count": 143,
          "output_type": "execute_result",
          "data": {
            "text/plain": "'KTTTT'"
          },
          "metadata": {}
        }
      ],
      "execution_count": 143
    },
    {
      "cell_type": "code",
      "source": "def max_count(str_list):\n    str_set = set(str_list)\n    max_num = 0\n    for set_letter in str_set:\n        num_set_letter = 0\n        for letter in str_list:\n            if letter == set_letter:\n                num_set_letter += 1\n        if max_num < num_set_letter:\n            max_num = num_set_letter\n    return max_num",
      "metadata": {
        "trusted": true
      },
      "outputs": [],
      "execution_count": 144
    },
    {
      "cell_type": "code",
      "source": "def calculate_type(string):\n    str_list = list(string)\n    str_set = set(str_list)\n    if len(str_set) == 1:\n        return 7\n    elif len(str_set) == 2:\n        if max_count(str_list) == 4:\n            return 6\n        else:\n            return 5\n    elif len(str_set) == 3:\n        if max_count(str_list) == 3:\n            return 4\n        else:\n            return 3\n    else:\n        if max_count(str_list) == 2:\n            return 2\n        else:\n            return 1",
      "metadata": {
        "trusted": true
      },
      "outputs": [],
      "execution_count": 145
    },
    {
      "cell_type": "code",
      "source": "def joker_letter2num(letter):\n    dictionary = {'2':2, '3':3, '4':4, '5':5, '6':6, '7':7, '8':8, '9':9, 'T':10, 'J':1, 'Q':12, 'K':13, 'A':14}\n    return dictionary[letter]",
      "metadata": {
        "trusted": true
      },
      "outputs": [],
      "execution_count": 146
    },
    {
      "cell_type": "code",
      "source": "for hand in hand_dict:\n    if 'J' in hand:\n        joker_hand = transform(hand)\n        hand_dict[hand].append(calculate_type(joker_hand))\n    else:\n        hand_dict[hand].append(calculate_type(hand))\n    for letter in hand:\n        hand_dict[hand].append(joker_letter2num(letter))",
      "metadata": {
        "trusted": true
      },
      "outputs": [],
      "execution_count": 147
    },
    {
      "cell_type": "code",
      "source": "hand_dict[hands[7].split()[0]]",
      "metadata": {
        "trusted": true
      },
      "outputs": [
        {
          "execution_count": 148,
          "output_type": "execute_result",
          "data": {
            "text/plain": "[1, 4, 2, 6, 1, 7, 7]"
          },
          "metadata": {}
        }
      ],
      "execution_count": 148
    },
    {
      "cell_type": "code",
      "source": "value_list=[]\nfor hand in hand_dict:\n    value_list.append(hand_dict[hand])",
      "metadata": {
        "trusted": true
      },
      "outputs": [],
      "execution_count": 149
    },
    {
      "cell_type": "code",
      "source": "sorted_value = sorted(value_list, key = lambda x: (x[1], x[2], x[3], x[4], x[5], x[6]))",
      "metadata": {
        "trusted": true
      },
      "outputs": [],
      "execution_count": 150
    },
    {
      "cell_type": "code",
      "source": "sum = 0\nfor i in range(len(sorted_value)):\n    sum += sorted_value[i][0]*(i+1)\nsum",
      "metadata": {
        "trusted": true
      },
      "outputs": [
        {
          "execution_count": 151,
          "output_type": "execute_result",
          "data": {
            "text/plain": "250506580"
          },
          "metadata": {}
        }
      ],
      "execution_count": 151
    },
    {
      "cell_type": "code",
      "source": "",
      "metadata": {
        "trusted": true
      },
      "outputs": [],
      "execution_count": null
    }
  ]
}